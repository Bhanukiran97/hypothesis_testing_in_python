{
 "cells": [
  {
   "cell_type": "markdown",
   "id": "b413cf2b",
   "metadata": {},
   "source": [
    "# Importing Necessary Libraries"
   ]
  },
  {
   "cell_type": "code",
   "execution_count": 2,
   "id": "66b786fa",
   "metadata": {},
   "outputs": [],
   "source": [
    "import pandas as pd\n",
    "from scipy import stats\n",
    "import numpy as np\n",
    "from statsmodels.stats.proportion import proportions_ztest"
   ]
  },
  {
   "cell_type": "markdown",
   "id": "64352a11",
   "metadata": {},
   "source": [
    "# Problem - 1\n",
    "    A F&B manager wants to determine whether there is any significant difference in the diameter of the cutlet between two units. A randomly selected sample of cutlets was collected from both units and measured? Analyze the data and draw inferences at 5% significance level. Please state the assumptions and tests that you carried out to check validity of the assumptions."
   ]
  },
  {
   "cell_type": "markdown",
   "id": "042038fe",
   "metadata": {},
   "source": [
    "### Step 1 - Data Importing, Undestanding and Cleaning"
   ]
  },
  {
   "cell_type": "code",
   "execution_count": 3,
   "id": "1eef28ee",
   "metadata": {
    "scrolled": true
   },
   "outputs": [
    {
     "data": {
      "text/html": [
       "<div>\n",
       "<style scoped>\n",
       "    .dataframe tbody tr th:only-of-type {\n",
       "        vertical-align: middle;\n",
       "    }\n",
       "\n",
       "    .dataframe tbody tr th {\n",
       "        vertical-align: top;\n",
       "    }\n",
       "\n",
       "    .dataframe thead th {\n",
       "        text-align: right;\n",
       "    }\n",
       "</style>\n",
       "<table border=\"1\" class=\"dataframe\">\n",
       "  <thead>\n",
       "    <tr style=\"text-align: right;\">\n",
       "      <th></th>\n",
       "      <th>Unit A</th>\n",
       "      <th>Unit B</th>\n",
       "    </tr>\n",
       "  </thead>\n",
       "  <tbody>\n",
       "    <tr>\n",
       "      <th>0</th>\n",
       "      <td>6.8090</td>\n",
       "      <td>6.7703</td>\n",
       "    </tr>\n",
       "    <tr>\n",
       "      <th>1</th>\n",
       "      <td>6.4376</td>\n",
       "      <td>7.5093</td>\n",
       "    </tr>\n",
       "    <tr>\n",
       "      <th>2</th>\n",
       "      <td>6.9157</td>\n",
       "      <td>6.7300</td>\n",
       "    </tr>\n",
       "    <tr>\n",
       "      <th>3</th>\n",
       "      <td>7.3012</td>\n",
       "      <td>6.7878</td>\n",
       "    </tr>\n",
       "    <tr>\n",
       "      <th>4</th>\n",
       "      <td>7.4488</td>\n",
       "      <td>7.1522</td>\n",
       "    </tr>\n",
       "  </tbody>\n",
       "</table>\n",
       "</div>"
      ],
      "text/plain": [
       "   Unit A  Unit B\n",
       "0  6.8090  6.7703\n",
       "1  6.4376  7.5093\n",
       "2  6.9157  6.7300\n",
       "3  7.3012  6.7878\n",
       "4  7.4488  7.1522"
      ]
     },
     "execution_count": 3,
     "metadata": {},
     "output_type": "execute_result"
    }
   ],
   "source": [
    "cutlets_data = pd.read_csv('Cutlets.csv')\n",
    "cutlets_data.head()"
   ]
  },
  {
   "cell_type": "code",
   "execution_count": 4,
   "id": "09b481c8",
   "metadata": {
    "scrolled": true
   },
   "outputs": [
    {
     "name": "stdout",
     "output_type": "stream",
     "text": [
      "<class 'pandas.core.frame.DataFrame'>\n",
      "RangeIndex: 35 entries, 0 to 34\n",
      "Data columns (total 2 columns):\n",
      " #   Column  Non-Null Count  Dtype  \n",
      "---  ------  --------------  -----  \n",
      " 0   Unit A  35 non-null     float64\n",
      " 1   Unit B  35 non-null     float64\n",
      "dtypes: float64(2)\n",
      "memory usage: 688.0 bytes\n"
     ]
    }
   ],
   "source": [
    "cutlets_data.info()"
   ]
  },
  {
   "cell_type": "markdown",
   "id": "98c3635b",
   "metadata": {},
   "source": [
    "### Step 2 - Hypothesis Formulation   \n",
    "    H0 : µ-A = µ-B (There is no significant difference in the diameter of the cutlet between two units.)\n",
    "    Ha : µ-A ≠ µ-B (There is significant difference in the diameter of the cutlet between two units.)"
   ]
  },
  {
   "cell_type": "markdown",
   "id": "763daea4",
   "metadata": {},
   "source": [
    "### Step 3 - Gathering Evidence"
   ]
  },
  {
   "cell_type": "code",
   "execution_count": 5,
   "id": "e14d5b95",
   "metadata": {},
   "outputs": [],
   "source": [
    "test_stat1, p_value1 = stats.ttest_ind(cutlets_data['Unit A'], cutlets_data['Unit B'])"
   ]
  },
  {
   "cell_type": "code",
   "execution_count": 6,
   "id": "c5d47665",
   "metadata": {},
   "outputs": [
    {
     "data": {
      "text/plain": [
       "0.4722394724599501"
      ]
     },
     "execution_count": 6,
     "metadata": {},
     "output_type": "execute_result"
    }
   ],
   "source": [
    "p_value1"
   ]
  },
  {
   "cell_type": "markdown",
   "id": "27769121",
   "metadata": {},
   "source": [
    "### Step 4 - Checking the Sufficiency of Evidence with Significance Value"
   ]
  },
  {
   "cell_type": "code",
   "execution_count": 7,
   "id": "9b716be6",
   "metadata": {},
   "outputs": [
    {
     "name": "stdout",
     "output_type": "stream",
     "text": [
      "Do Not Reject Null Hypothesis(H0)\n"
     ]
    }
   ],
   "source": [
    "if p_value1 < 0.05:\n",
    "    print('Reject Null Hypothesis(H0)')\n",
    "else:\n",
    "    print('Do Not Reject Null Hypothesis(H0)')"
   ]
  },
  {
   "cell_type": "markdown",
   "id": "806633ab",
   "metadata": {},
   "source": [
    "# ----------------------------------------------------------------------------------------------------------"
   ]
  },
  {
   "cell_type": "markdown",
   "id": "04a8e62a",
   "metadata": {},
   "source": [
    "# Problem - 2\n",
    "    A hospital wants to determine whether there is any difference in the average Turn Around Time (TAT) of reports of the laboratories on their preferred list. They collected a random sample and recorded TAT for reports of 4 laboratories. TAT is defined as sample collected to report dispatch.\n",
    "    Analyze the data and determine whether there is any difference in average TAT among the different laboratories at 5% significance level."
   ]
  },
  {
   "cell_type": "markdown",
   "id": "cbb4a693",
   "metadata": {},
   "source": [
    "### Step 1 - Data Importing, Undestanding and Cleaning"
   ]
  },
  {
   "cell_type": "code",
   "execution_count": 8,
   "id": "2c0417ea",
   "metadata": {},
   "outputs": [
    {
     "data": {
      "text/html": [
       "<div>\n",
       "<style scoped>\n",
       "    .dataframe tbody tr th:only-of-type {\n",
       "        vertical-align: middle;\n",
       "    }\n",
       "\n",
       "    .dataframe tbody tr th {\n",
       "        vertical-align: top;\n",
       "    }\n",
       "\n",
       "    .dataframe thead th {\n",
       "        text-align: right;\n",
       "    }\n",
       "</style>\n",
       "<table border=\"1\" class=\"dataframe\">\n",
       "  <thead>\n",
       "    <tr style=\"text-align: right;\">\n",
       "      <th></th>\n",
       "      <th>Laboratory 1</th>\n",
       "      <th>Laboratory 2</th>\n",
       "      <th>Laboratory 3</th>\n",
       "      <th>Laboratory 4</th>\n",
       "    </tr>\n",
       "  </thead>\n",
       "  <tbody>\n",
       "    <tr>\n",
       "      <th>0</th>\n",
       "      <td>185.35</td>\n",
       "      <td>165.53</td>\n",
       "      <td>176.70</td>\n",
       "      <td>166.13</td>\n",
       "    </tr>\n",
       "    <tr>\n",
       "      <th>1</th>\n",
       "      <td>170.49</td>\n",
       "      <td>185.91</td>\n",
       "      <td>198.45</td>\n",
       "      <td>160.79</td>\n",
       "    </tr>\n",
       "    <tr>\n",
       "      <th>2</th>\n",
       "      <td>192.77</td>\n",
       "      <td>194.92</td>\n",
       "      <td>201.23</td>\n",
       "      <td>185.18</td>\n",
       "    </tr>\n",
       "    <tr>\n",
       "      <th>3</th>\n",
       "      <td>177.33</td>\n",
       "      <td>183.00</td>\n",
       "      <td>199.61</td>\n",
       "      <td>176.42</td>\n",
       "    </tr>\n",
       "    <tr>\n",
       "      <th>4</th>\n",
       "      <td>193.41</td>\n",
       "      <td>169.57</td>\n",
       "      <td>204.63</td>\n",
       "      <td>152.60</td>\n",
       "    </tr>\n",
       "  </tbody>\n",
       "</table>\n",
       "</div>"
      ],
      "text/plain": [
       "   Laboratory 1  Laboratory 2  Laboratory 3  Laboratory 4\n",
       "0        185.35        165.53        176.70        166.13\n",
       "1        170.49        185.91        198.45        160.79\n",
       "2        192.77        194.92        201.23        185.18\n",
       "3        177.33        183.00        199.61        176.42\n",
       "4        193.41        169.57        204.63        152.60"
      ]
     },
     "execution_count": 8,
     "metadata": {},
     "output_type": "execute_result"
    }
   ],
   "source": [
    "lab_tat_data = pd.read_csv('LabTAT.csv')\n",
    "lab_tat_data.head()"
   ]
  },
  {
   "cell_type": "code",
   "execution_count": 9,
   "id": "697c0738",
   "metadata": {
    "scrolled": false
   },
   "outputs": [
    {
     "name": "stdout",
     "output_type": "stream",
     "text": [
      "<class 'pandas.core.frame.DataFrame'>\n",
      "RangeIndex: 120 entries, 0 to 119\n",
      "Data columns (total 4 columns):\n",
      " #   Column        Non-Null Count  Dtype  \n",
      "---  ------        --------------  -----  \n",
      " 0   Laboratory 1  120 non-null    float64\n",
      " 1   Laboratory 2  120 non-null    float64\n",
      " 2   Laboratory 3  120 non-null    float64\n",
      " 3   Laboratory 4  120 non-null    float64\n",
      "dtypes: float64(4)\n",
      "memory usage: 3.9 KB\n"
     ]
    }
   ],
   "source": [
    "lab_tat_data.info()"
   ]
  },
  {
   "cell_type": "markdown",
   "id": "680c9577",
   "metadata": {},
   "source": [
    "### Step 2 - Hypothesis Formulation     \n",
    "    H0 : µ-1 = µ-2 = µ-3 = µ-4  (There is no difference in average TAT among the different laboratories.) \n",
    "    Ha : µ-1 ≠ µ-2 ≠ µ-3 ≠ µ-4  (There is difference in average TAT among the different laboratories.)"
   ]
  },
  {
   "cell_type": "markdown",
   "id": "55eccff6",
   "metadata": {},
   "source": [
    "### Step 3 - Gathering Evidence"
   ]
  },
  {
   "cell_type": "code",
   "execution_count": 10,
   "id": "0f9f2592",
   "metadata": {},
   "outputs": [],
   "source": [
    "test_stat2, p_value2 = stats.f_oneway(lab_tat_data['Laboratory 1'], lab_tat_data['Laboratory 2'], \n",
    "                                      lab_tat_data['Laboratory 3'], lab_tat_data['Laboratory 4'])"
   ]
  },
  {
   "cell_type": "code",
   "execution_count": 11,
   "id": "e628f7d4",
   "metadata": {},
   "outputs": [
    {
     "data": {
      "text/plain": [
       "2.1156708949992414e-57"
      ]
     },
     "execution_count": 11,
     "metadata": {},
     "output_type": "execute_result"
    }
   ],
   "source": [
    "p_value2"
   ]
  },
  {
   "cell_type": "markdown",
   "id": "948b78a8",
   "metadata": {},
   "source": [
    "### Step 4 - Checking the Sufficiency of Evidence with Significance Value"
   ]
  },
  {
   "cell_type": "code",
   "execution_count": 12,
   "id": "a6b108a1",
   "metadata": {},
   "outputs": [
    {
     "name": "stdout",
     "output_type": "stream",
     "text": [
      "Reject Null Hypothesis(H0)\n"
     ]
    }
   ],
   "source": [
    "if p_value2 < 0.05:\n",
    "    print('Reject Null Hypothesis(H0)')\n",
    "else:\n",
    "    print('Do Not Reject Null Hypothesis(H0)')"
   ]
  },
  {
   "cell_type": "markdown",
   "id": "abe069ac",
   "metadata": {},
   "source": [
    "# ----------------------------------------------------------------------------------------------------------"
   ]
  },
  {
   "cell_type": "markdown",
   "id": "d878037a",
   "metadata": {},
   "source": [
    "# Problem - 3\n",
    "    Sales of products in four different regions is tabulated for males and females. Find if male-female buyer rations are similar across regions. "
   ]
  },
  {
   "cell_type": "markdown",
   "id": "e0f08470",
   "metadata": {},
   "source": [
    "### Step 1 - Data Importing, Undestanding and Cleaning"
   ]
  },
  {
   "cell_type": "code",
   "execution_count": 13,
   "id": "9578e343",
   "metadata": {
    "scrolled": false
   },
   "outputs": [
    {
     "data": {
      "text/html": [
       "<div>\n",
       "<style scoped>\n",
       "    .dataframe tbody tr th:only-of-type {\n",
       "        vertical-align: middle;\n",
       "    }\n",
       "\n",
       "    .dataframe tbody tr th {\n",
       "        vertical-align: top;\n",
       "    }\n",
       "\n",
       "    .dataframe thead th {\n",
       "        text-align: right;\n",
       "    }\n",
       "</style>\n",
       "<table border=\"1\" class=\"dataframe\">\n",
       "  <thead>\n",
       "    <tr style=\"text-align: right;\">\n",
       "      <th></th>\n",
       "      <th>Observed Values</th>\n",
       "      <th>East</th>\n",
       "      <th>West</th>\n",
       "      <th>North</th>\n",
       "      <th>South</th>\n",
       "    </tr>\n",
       "  </thead>\n",
       "  <tbody>\n",
       "    <tr>\n",
       "      <th>0</th>\n",
       "      <td>Males</td>\n",
       "      <td>50</td>\n",
       "      <td>142</td>\n",
       "      <td>131</td>\n",
       "      <td>70</td>\n",
       "    </tr>\n",
       "    <tr>\n",
       "      <th>1</th>\n",
       "      <td>Females</td>\n",
       "      <td>435</td>\n",
       "      <td>1523</td>\n",
       "      <td>1356</td>\n",
       "      <td>750</td>\n",
       "    </tr>\n",
       "  </tbody>\n",
       "</table>\n",
       "</div>"
      ],
      "text/plain": [
       "  Observed Values  East  West  North  South\n",
       "0           Males    50   142    131     70\n",
       "1         Females   435  1523   1356    750"
      ]
     },
     "execution_count": 13,
     "metadata": {},
     "output_type": "execute_result"
    }
   ],
   "source": [
    "buyer_ratio_data = pd.read_csv('BuyerRatio.csv')\n",
    "buyer_ratio_data"
   ]
  },
  {
   "cell_type": "code",
   "execution_count": 14,
   "id": "ea932846",
   "metadata": {},
   "outputs": [],
   "source": [
    "buyer_ratio_data.drop('Observed Values', axis=1, inplace=True)"
   ]
  },
  {
   "cell_type": "markdown",
   "id": "135bc239",
   "metadata": {},
   "source": [
    "### Step 2 - Hypothesis Formulation    \n",
    "    H0 : p1 = p2 = p3 = p4  (All Proportions are Equal.) \n",
    "    Ha : p1 ≠ p2 ≠ p3 ≠ p4  (Not All Proportions are Equal.)"
   ]
  },
  {
   "cell_type": "code",
   "execution_count": 15,
   "id": "7cd95076",
   "metadata": {},
   "outputs": [],
   "source": [
    "test_stat3, p_value3, df3, expected3 = stats.chi2_contingency(buyer_ratio_data)"
   ]
  },
  {
   "cell_type": "markdown",
   "id": "8518b91a",
   "metadata": {},
   "source": [
    "### Step 3 - Gathering Evidence"
   ]
  },
  {
   "cell_type": "code",
   "execution_count": 16,
   "id": "7ca93e18",
   "metadata": {},
   "outputs": [
    {
     "data": {
      "text/plain": [
       "0.6603094907091882"
      ]
     },
     "execution_count": 16,
     "metadata": {},
     "output_type": "execute_result"
    }
   ],
   "source": [
    "p_value3"
   ]
  },
  {
   "cell_type": "markdown",
   "id": "386eda56",
   "metadata": {},
   "source": [
    "### Step 4 - Checking the Sufficiency of Evidence with Significance Value"
   ]
  },
  {
   "cell_type": "code",
   "execution_count": 17,
   "id": "3ce7f92f",
   "metadata": {},
   "outputs": [
    {
     "name": "stdout",
     "output_type": "stream",
     "text": [
      "Do Not Reject Null Hypothesis(H0)\n"
     ]
    }
   ],
   "source": [
    "if p_value3< 0.05:\n",
    "    print('Reject Null Hypothesis(H0)')\n",
    "else:\n",
    "    print('Do Not Reject Null Hypothesis(H0)')"
   ]
  },
  {
   "cell_type": "markdown",
   "id": "e00e086f",
   "metadata": {},
   "source": [
    "# -----------------------------------------------------------------------------------------------------------"
   ]
  },
  {
   "cell_type": "markdown",
   "id": "beed0811",
   "metadata": {},
   "source": [
    "# Problem - 4\n",
    "    TeleCall uses 4 centers around the globe to process customer order forms. They audit a certain %  of the customer order forms. Any error in order form renders it defective and has to be reworked before processing.  The manager wants to check whether the defective %  varies by centre. Please analyze the data at 5% significance level and help the manager draw appropriate inferences"
   ]
  },
  {
   "cell_type": "markdown",
   "id": "e18c2799",
   "metadata": {},
   "source": [
    "### Step 1 - Data Importing, Undestanding and Cleaning"
   ]
  },
  {
   "cell_type": "code",
   "execution_count": 18,
   "id": "ec1b8006",
   "metadata": {},
   "outputs": [],
   "source": [
    "orderform_data = pd.read_csv('Costomer+OrderForm.csv')"
   ]
  },
  {
   "cell_type": "code",
   "execution_count": 19,
   "id": "c487e4e4",
   "metadata": {},
   "outputs": [
    {
     "data": {
      "text/html": [
       "<div>\n",
       "<style scoped>\n",
       "    .dataframe tbody tr th:only-of-type {\n",
       "        vertical-align: middle;\n",
       "    }\n",
       "\n",
       "    .dataframe tbody tr th {\n",
       "        vertical-align: top;\n",
       "    }\n",
       "\n",
       "    .dataframe thead th {\n",
       "        text-align: right;\n",
       "    }\n",
       "</style>\n",
       "<table border=\"1\" class=\"dataframe\">\n",
       "  <thead>\n",
       "    <tr style=\"text-align: right;\">\n",
       "      <th></th>\n",
       "      <th>Phillippines</th>\n",
       "      <th>Indonesia</th>\n",
       "      <th>Malta</th>\n",
       "      <th>India</th>\n",
       "    </tr>\n",
       "  </thead>\n",
       "  <tbody>\n",
       "    <tr>\n",
       "      <th>0</th>\n",
       "      <td>Error Free</td>\n",
       "      <td>Error Free</td>\n",
       "      <td>Defective</td>\n",
       "      <td>Error Free</td>\n",
       "    </tr>\n",
       "    <tr>\n",
       "      <th>1</th>\n",
       "      <td>Error Free</td>\n",
       "      <td>Error Free</td>\n",
       "      <td>Error Free</td>\n",
       "      <td>Defective</td>\n",
       "    </tr>\n",
       "    <tr>\n",
       "      <th>2</th>\n",
       "      <td>Error Free</td>\n",
       "      <td>Defective</td>\n",
       "      <td>Defective</td>\n",
       "      <td>Error Free</td>\n",
       "    </tr>\n",
       "    <tr>\n",
       "      <th>3</th>\n",
       "      <td>Error Free</td>\n",
       "      <td>Error Free</td>\n",
       "      <td>Error Free</td>\n",
       "      <td>Error Free</td>\n",
       "    </tr>\n",
       "    <tr>\n",
       "      <th>4</th>\n",
       "      <td>Error Free</td>\n",
       "      <td>Error Free</td>\n",
       "      <td>Defective</td>\n",
       "      <td>Error Free</td>\n",
       "    </tr>\n",
       "  </tbody>\n",
       "</table>\n",
       "</div>"
      ],
      "text/plain": [
       "  Phillippines   Indonesia       Malta       India\n",
       "0   Error Free  Error Free   Defective  Error Free\n",
       "1   Error Free  Error Free  Error Free   Defective\n",
       "2   Error Free   Defective   Defective  Error Free\n",
       "3   Error Free  Error Free  Error Free  Error Free\n",
       "4   Error Free  Error Free   Defective  Error Free"
      ]
     },
     "execution_count": 19,
     "metadata": {},
     "output_type": "execute_result"
    }
   ],
   "source": [
    "orderform_data.head()"
   ]
  },
  {
   "cell_type": "code",
   "execution_count": 20,
   "id": "f149e457",
   "metadata": {
    "scrolled": true
   },
   "outputs": [
    {
     "name": "stdout",
     "output_type": "stream",
     "text": [
      "<class 'pandas.core.frame.DataFrame'>\n",
      "RangeIndex: 300 entries, 0 to 299\n",
      "Data columns (total 4 columns):\n",
      " #   Column        Non-Null Count  Dtype \n",
      "---  ------        --------------  ----- \n",
      " 0   Phillippines  300 non-null    object\n",
      " 1   Indonesia     300 non-null    object\n",
      " 2   Malta         300 non-null    object\n",
      " 3   India         300 non-null    object\n",
      "dtypes: object(4)\n",
      "memory usage: 9.5+ KB\n"
     ]
    }
   ],
   "source": [
    "orderform_data.info()"
   ]
  },
  {
   "cell_type": "markdown",
   "id": "eee0f4cd",
   "metadata": {},
   "source": [
    "### Step 2 - Hypothesis Formulation     \n",
    "    H0 : p1 = p2 = p3 = p4  (The Defective % does not vary by Centre.)\n",
    "    Ha : p1 ≠ p2 ≠ p3 ≠ p4  (The Defective % varies by Centre.) "
   ]
  },
  {
   "cell_type": "code",
   "execution_count": 21,
   "id": "25d07c89",
   "metadata": {},
   "outputs": [],
   "source": [
    "orderform_data_2 = pd.DataFrame({'Observed_Values' : ['Error Free','Defective'],\n",
    "                                    'Phillippines' : orderform_data['Phillippines'].value_counts(),\n",
    "                                       'Indonesia' : orderform_data['Indonesia'].value_counts(),\n",
    "                                           'Malta' : orderform_data['Malta'].value_counts(),\n",
    "                                           'India' : orderform_data['India'].value_counts()\n",
    "                                })"
   ]
  },
  {
   "cell_type": "code",
   "execution_count": 22,
   "id": "6909c159",
   "metadata": {},
   "outputs": [
    {
     "data": {
      "text/html": [
       "<div>\n",
       "<style scoped>\n",
       "    .dataframe tbody tr th:only-of-type {\n",
       "        vertical-align: middle;\n",
       "    }\n",
       "\n",
       "    .dataframe tbody tr th {\n",
       "        vertical-align: top;\n",
       "    }\n",
       "\n",
       "    .dataframe thead th {\n",
       "        text-align: right;\n",
       "    }\n",
       "</style>\n",
       "<table border=\"1\" class=\"dataframe\">\n",
       "  <thead>\n",
       "    <tr style=\"text-align: right;\">\n",
       "      <th></th>\n",
       "      <th>Observed_Values</th>\n",
       "      <th>Phillippines</th>\n",
       "      <th>Indonesia</th>\n",
       "      <th>Malta</th>\n",
       "      <th>India</th>\n",
       "    </tr>\n",
       "  </thead>\n",
       "  <tbody>\n",
       "    <tr>\n",
       "      <th>Error Free</th>\n",
       "      <td>Error Free</td>\n",
       "      <td>271</td>\n",
       "      <td>267</td>\n",
       "      <td>269</td>\n",
       "      <td>280</td>\n",
       "    </tr>\n",
       "    <tr>\n",
       "      <th>Defective</th>\n",
       "      <td>Defective</td>\n",
       "      <td>29</td>\n",
       "      <td>33</td>\n",
       "      <td>31</td>\n",
       "      <td>20</td>\n",
       "    </tr>\n",
       "  </tbody>\n",
       "</table>\n",
       "</div>"
      ],
      "text/plain": [
       "           Observed_Values  Phillippines  Indonesia  Malta  India\n",
       "Error Free      Error Free           271        267    269    280\n",
       "Defective        Defective            29         33     31     20"
      ]
     },
     "execution_count": 22,
     "metadata": {},
     "output_type": "execute_result"
    }
   ],
   "source": [
    "orderform_data_2"
   ]
  },
  {
   "cell_type": "code",
   "execution_count": 23,
   "id": "93a7e8cc",
   "metadata": {},
   "outputs": [],
   "source": [
    "orderform_data_2.drop('Observed_Values', axis=1, inplace=True)"
   ]
  },
  {
   "cell_type": "markdown",
   "id": "455476fc",
   "metadata": {},
   "source": [
    "### Step 3 - Gathering Evidence"
   ]
  },
  {
   "cell_type": "code",
   "execution_count": 24,
   "id": "9a47fd74",
   "metadata": {},
   "outputs": [],
   "source": [
    "test_stat4, p_value4, df4, expected4 = stats.chi2_contingency(orderform_data_2)"
   ]
  },
  {
   "cell_type": "code",
   "execution_count": 25,
   "id": "374e59ce",
   "metadata": {},
   "outputs": [
    {
     "data": {
      "text/plain": [
       "0.2771020991233135"
      ]
     },
     "execution_count": 25,
     "metadata": {},
     "output_type": "execute_result"
    }
   ],
   "source": [
    "p_value4"
   ]
  },
  {
   "cell_type": "markdown",
   "id": "8e3fa278",
   "metadata": {},
   "source": [
    "### Step 4 - Checking the Sufficiency of Evidence with Significance Value"
   ]
  },
  {
   "cell_type": "code",
   "execution_count": 26,
   "id": "4af25951",
   "metadata": {},
   "outputs": [
    {
     "name": "stdout",
     "output_type": "stream",
     "text": [
      "Do Not Reject Null Hypothesis(H0)\n"
     ]
    }
   ],
   "source": [
    "if p_value4< 0.05:\n",
    "    print('Reject Null Hypothesis(H0)')\n",
    "else:\n",
    "    print('Do Not Reject Null Hypothesis(H0)')"
   ]
  }
 ],
 "metadata": {
  "kernelspec": {
   "display_name": "Python 3 (ipykernel)",
   "language": "python",
   "name": "python3"
  },
  "language_info": {
   "codemirror_mode": {
    "name": "ipython",
    "version": 3
   },
   "file_extension": ".py",
   "mimetype": "text/x-python",
   "name": "python",
   "nbconvert_exporter": "python",
   "pygments_lexer": "ipython3",
   "version": "3.9.12"
  }
 },
 "nbformat": 4,
 "nbformat_minor": 5
}
